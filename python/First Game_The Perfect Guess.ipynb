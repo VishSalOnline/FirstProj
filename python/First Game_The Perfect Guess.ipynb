{
 "cells": [
  {
   "cell_type": "code",
   "execution_count": 12,
   "id": "c5906065",
   "metadata": {},
   "outputs": [
    {
     "name": "stdout",
     "output_type": "stream",
     "text": [
      "74\n",
      "Enter the Number : 55\n",
      "You guessed it wrong.\n",
      "You guessed number lesser than number.\n",
      "Enter the Number : 85\n",
      "You guessed it wrong.\n",
      "You guessed number greater than number.\n",
      "Enter the Number : 73\n",
      "You guessed it wrong.\n",
      "You guessed number lesser than number.\n",
      "Enter the Number : 78\n",
      "You guessed it wrong.\n",
      "You guessed number greater than number.\n",
      "Enter the Number : 75\n",
      "You guessed it wrong.\n",
      "You guessed number greater than number.\n",
      "Enter the Number : 74\n",
      "You guessed it right.\n",
      "You guessed it right in 6 counts.\n",
      "You are the Highest Scorer of the game!!!\n",
      "Previous Highest score was 55\n",
      "6\n"
     ]
    }
   ],
   "source": [
    "import random\n",
    "randomNumber= random.randint(1,100)\n",
    "print(randomNumber)\n",
    "userGuess=None\n",
    "count=0\n",
    "while userGuess!=randomNumber:\n",
    "    count+=1\n",
    "    userGuess=int(input(\"Enter the Number : \"))\n",
    "    if userGuess==randomNumber:\n",
    "        print(\"You guessed it right.\")\n",
    "    else:\n",
    "        print(\"You guessed it wrong.\")\n",
    "        if userGuess>=randomNumber:\n",
    "            print(\"You guessed number greater than number.\")\n",
    "        else:\n",
    "            print(\"You guessed number lesser than number.\")\n",
    "print(f\"You guessed it right in {count} counts.\")\n",
    "with open(\"HighestScore.txt\",\"r\") as file:\n",
    "    HighestScore=file.read()\n",
    "if count<int(HighestScore):\n",
    "    print(\"You are the Highest Scorer of the game!!!\")\n",
    "    print(f\"Previous Highest score was {HighestScore}\")\n",
    "    with open(\"HighestScore.txt\",\"w\") as file:\n",
    "        file.write(str(count))\n",
    "with open(\"HighestScore.txt\",\"r\") as file:\n",
    "    HighestScore=int(file.read())\n",
    "print(HighestScore)"
   ]
  },
  {
   "cell_type": "code",
   "execution_count": 6,
   "id": "610a2a05",
   "metadata": {},
   "outputs": [
    {
     "data": {
      "text/plain": [
       "'D:\\\\Python\\\\PythonSirNotes\\\\Practice\\\\Daily Practice\\\\03_17_2022'"
      ]
     },
     "execution_count": 6,
     "metadata": {},
     "output_type": "execute_result"
    }
   ],
   "source": [
    "import os\n",
    "os.getcwd()"
   ]
  },
  {
   "cell_type": "code",
   "execution_count": null,
   "id": "a2c244df",
   "metadata": {},
   "outputs": [],
   "source": []
  }
 ],
 "metadata": {
  "kernelspec": {
   "display_name": "Python 3 (ipykernel)",
   "language": "python",
   "name": "python3"
  },
  "language_info": {
   "codemirror_mode": {
    "name": "ipython",
    "version": 3
   },
   "file_extension": ".py",
   "mimetype": "text/x-python",
   "name": "python",
   "nbconvert_exporter": "python",
   "pygments_lexer": "ipython3",
   "version": "3.9.7"
  }
 },
 "nbformat": 4,
 "nbformat_minor": 5
}
